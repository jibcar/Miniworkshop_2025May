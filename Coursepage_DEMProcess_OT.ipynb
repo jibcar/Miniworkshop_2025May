{
 "cells": [
  {
   "cell_type": "markdown",
   "id": "07267065-c16b-47c2-a653-3adff1f05276",
   "metadata": {},
   "source": [
    "## <span style=\"color:green\"><h1><center>Accessing and Processing Global DEM</center></h1></span>\n",
    "<center>Prepared by <br>\n",
    "    <b>Jibin Joseph and Venkatesh Merwade</b><br> \n",
    "Lyles School of Civil Engineering, Purdue University<br>\n",
    "joseph57@purdue.edu, vmerwade@purdue.edu<br>\n",
    "<b><br>\n",
    "    FAIR Science in Water Resources</b><br></center>\n"
   ]
  },
  {
   "cell_type": "markdown",
   "id": "5816411d-341f-4c73-b9b5-4777880ea0fd",
   "metadata": {},
   "source": [
    "## <span style=\"color:green\">Objective</span>\n",
    "<p style='text-align: justify;'>This tutorial will download DEM raster files from any region around the world using a user-specified bounding box from Open Topography. Later, the DEM raster file will be processed to generate Topogrpahic Wetness Index raster. </p> "
   ]
  },
  {
   "cell_type": "markdown",
   "id": "84329bca-ca6c-4962-adf7-f5bbfc8f7a9a",
   "metadata": {},
   "source": [
    "## <span style=\"color:green\">Topographic Wetness Index (TWI)</span>\n",
    "\n",
    "**Topographic Wetness Index (also called “compound topographic index” or simply *wetness index*)** quantifies how likely a point on the landscape is to accumulate and retain water given the local contributing area and slope:\n",
    "\n",
    "$$\n",
    "\\text{TWI} \\;=\\; \\ln\\!\\biggl(\\frac{a}{\\tan\\beta}\\biggr)\n",
    "$$\n",
    "\n",
    "| Symbol | Meaning | Units |\n",
    "| :----: | ------- | ----- |\n",
    "| $a$  | *Specific upslope contributing area* &nbsp;– the drainage area per unit contour length flowing into the cell (often derived from a DEM flow-accumulation grid) | m² m⁻¹ |\n",
    "| $\\beta$ | *Local slope angle* (in radians), usually calculated from the same DEM | – |\n",
    "\n",
    "<span style=\"color:green\">**Interpretation**</span>\n",
    "\n",
    "* Large ($a$) (many upstream cells) **increases** TWI → wetter, more saturated ground.  \n",
    "* Steep slopes ($\\tan(\\beta$) large) **decrease** TWI → faster drainage, drier ground.  \n",
    "* Flat valley bottoms with large contributing areas therefore have the **highest** TWI values.\n",
    "\n",
    "<span style=\"color:green\">**Applications**</span>\n",
    "\n",
    "* Predicting zones of soil saturation and runoff generation  \n",
    "* Estimating spatial patterns of soil moisture for eco-hydrological models  \n",
    "* Delineating riparian buffers and wetland boundaries  \n",
    "* As an explanatory variable in species-distribution or erosion studies\n",
    "\n",
    "<span style=\"color:green\">**Important notes**</span>\n",
    "\n",
    "* TWI is **dimensionless** and relative; thresholds vary by terrain and resolution.  \n",
    "* Calculations are sensitive to DEM quality, flow-routing algorithm, and the method used to\n",
    "  estimate slope.  \n",
    "* Variations exist (e.g. log-transforms with different bases, or adding a small constant to avoid\n",
    "  ($\\tan\\beta = 0$) at perfectly flat cells).\n"
   ]
  },
  {
   "cell_type": "markdown",
   "id": "3c9a000c-a980-4fb1-8fb4-b0d2de07d558",
   "metadata": {},
   "source": [
    "## <span style=\"color:green\"> Available Different Global Dataset from Open Topography</span>\n",
    "<ol type=\"1\">\n",
    "    <span style=\"color:red\"><li>AW3D30 (ALOS World 3D 30m)</li></span>\n",
    "    <span style=\"color:red\"><li>AW3D30_E (ALOS World 3D Ellipsoidal, 30m)</li></span>\n",
    "    <span style=\"color:red\"><li>COP30 (Copernicus Global DSM 30m)</li></span>\n",
    "     <span style=\"color:red\"><li>COP90 (Copernicus Global DSM 90m)</li></span> \n",
    "    <span style=\"color:red\"><li>GEBCOIceTopo (Global Bathymetry and Topography that includes ice sheet topography, 500m)</li></span>  \n",
    "      <span style=\"color:red\"><li>GEBCOSubIceTopo (Global Bathymetry and Topography Including Basal Ice Surface that includes under-ice sheet topography, 500m)</li></span> \n",
    "    <span style=\"color:red\"><li>GEDI_L3 (DTM 1000m)</li></span>\n",
    "         <span style=\"color:red\"><li>NASADEM (NASADEM Global DEM)</li></span>\n",
    "    <span style=\"color:red\"><li>SRTMGL3 (SRTM GL3 90m)</li></span>\n",
    "    <span style=\"color:red\"><li>SRTMGL1 (SRTM GL1 30m)</li></span>\n",
    "     <span style=\"color:red\"><li>SRTMGL1_E (SRTM GL1 Ellipsoidal 30m)</li></span>  \n",
    "     <span style=\"color:red\"><li>SRTM15Plus (Global Bathymetry SRTM15+ V2.1 500m)</li></span>  \n",
    "    \n",
    "     "
   ]
  },
  {
   "cell_type": "markdown",
   "id": "aac2296b-68ca-4cbf-8f8d-d7058aab65e9",
   "metadata": {},
   "source": [
    "## <span style=\"color:green\">Step 0: Import the packages/modules required for this exercise</span>\n",
    "\n",
    "We need different packages as shown below. It can be either installed using pip method or conda method.\n"
   ]
  },
  {
   "cell_type": "code",
   "execution_count": null,
   "id": "86f761a1-dd9c-4e94-b7db-de146737b650",
   "metadata": {},
   "outputs": [],
   "source": [
    "import requests\n",
    "import os\n",
    "import geopandas as gpd\n",
    "from pynhd import NLDI\n",
    "import matplotlib.pyplot as plt\n",
    "import rasterio\n",
    "import rasterio.plot\n",
    "import ipywidgets as widgets\n",
    "from IPython.display import display\n",
    "import urllib.request\n",
    "import progressbar\n",
    "import math\n",
    "from shapely.geometry import box\n",
    "import sys\n",
    "sys.path.append(\"/srv/shared/data_dem_access/\")\n",
    "from USGS_sites_map import display_bounding_box, display_data_avail\n",
    "\n",
    "\n",
    "import geopandas as gpd\n",
    "import requests, io, json\n",
    "\n",
    "## Reprojecting\n",
    "from rasterio.warp import calculate_default_transform, reproject, Resampling\n",
    "import pyproj\n",
    "\n",
    "## TWI\n",
    "import tempfile\n",
    "from pathlib import Path\n",
    "import pywbt\n",
    "import numpy as np"
   ]
  },
  {
   "cell_type": "markdown",
   "id": "3fdfe417-20af-4f87-a011-dd95e61552fc",
   "metadata": {},
   "source": [
    "## <span style=\"color:green\">Step 1a: Pick a suitable global DEM</span>"
   ]
  },
  {
   "cell_type": "code",
   "execution_count": null,
   "id": "81368d05-7151-4ae2-8138-775679abb257",
   "metadata": {},
   "outputs": [],
   "source": [
    "# Raster data dictionary\n",
    "raster_data_dict = {\n",
    "    \"AW3D30\": \"ALOS World 3D 30m\",\n",
    "    \"AW3D30_E\": \"ALOS World 3D Ellipsoidal, 30m\",\n",
    "    \"COP30\": \"Copernicus Global DSM 30m\",\n",
    "    \"COP90\": \"Copernicus Global DSM 90m\",\n",
    "    \"GEBCOIceTopo\": \"Global Bathymetry and Topography that includes ice sheet topography, 500m\",\n",
    "    \"GEBCOSubIceTopo\": \"Global Bathymetry and Topography Including Basal Ice Surface that includes under-ice sheet topography, 500m\",\n",
    "    \"GEDI_L3\": \"DTM 1000m\",\n",
    "    \"NASADEM\": \"NASADEM Global DEM\",\n",
    "    \"SRTMGL3\": \"SRTM GL3 90m\",\n",
    "    \"SRTMGL1\": \"SRTM GL1 30m\",\n",
    "    \"SRTMGL1_E\": \"SRTM GL1 Ellipsoidal 30m\",\n",
    "    \"SRTM15Plus\": \"Global Bathymetry SRTM15+ V2.1 500m\",\n",
    "}\n",
    "\n",
    "options = [('— select a raster —', None)] + [\n",
    "    (f\"{code} — {name}\", code) for code, name in raster_data_dict.items()\n",
    "]\n",
    "\n",
    "raster_dropdown = widgets.Dropdown(\n",
    "    options=options,\n",
    "    value=None,\n",
    "    description='Raster:',\n",
    "    layout=widgets.Layout(width='600px')\n",
    ")\n",
    "\n",
    "display(raster_dropdown)"
   ]
  },
  {
   "cell_type": "code",
   "execution_count": null,
   "id": "c81ed7f7-2d81-4154-99d2-6f1714c7f436",
   "metadata": {},
   "outputs": [],
   "source": [
    "selected_raster_code = raster_dropdown.value          \n",
    "if selected_raster_code is None:\n",
    "    print(\"No raster selected yet.\")\n",
    "else:\n",
    "    selected_raster_name = raster_data_dict[selected_raster_code]     \n",
    "    print(f\"Selected DEM Raster code : {selected_raster_code}\\nSelected DEM Raster name : {selected_raster_name}\")\n"
   ]
  },
  {
   "cell_type": "markdown",
   "id": "f179b2be-9593-4c74-a260-9314d8854d81",
   "metadata": {},
   "source": [
    "## <span style=\"color:green\">Step 1b: Define a bounding box and check if system can handle it</span>"
   ]
  },
  {
   "cell_type": "code",
   "execution_count": null,
   "id": "78d42258-8aec-404e-b836-df0cf620e62c",
   "metadata": {},
   "outputs": [],
   "source": [
    "#bounding_box = (-88.27914124959916, 37.65387909441565, -84.65774514744832, 39) #large area and requires higher RAM or HPC\n",
    "#bounding_box = (-87.20779996, 40.12094423, -84.40668323, 41.35449477) #west, south, east, north\n",
    "#bounding_box = (76.20028223013529,9.899460286791733,78, 11)\n",
    "## Create filename unique to bounding box\n",
    "west, south, east, north = bounding_box\n",
    "\n",
    "## Build a Shapely polygon and create a geodataframe\n",
    "geom = box(west, south, east, north)\n",
    "bb_gdf = gpd.GeoDataFrame({'geometry': [geom]}, crs='EPSG:4326')\n",
    "## Method to estimate the CRS and convert to string object\n",
    "crs_string_full=bb_gdf.estimate_utm_crs(datum_name='WGS 84')\n",
    "crs_string=str(crs_string_full.to_epsg())\n",
    "\n",
    "## Calculate the area in sq. m. and sq. km.\n",
    "bb_gdf['area_m2'] = bb_gdf.to_crs(crs_string).geometry.area\n",
    "#print(bb_gdf['area_m2'].iloc[0], \"sq. m.\")\n",
    "bb_gdf['area_km2'] = bb_gdf['area_m2'] / 1000000\n",
    "#print(bb_gdf['area_km2'].iloc[0], \"sq. km.\")\n",
    "if bb_gdf['area_km2'].iloc[0] > 35000:\n",
    "    print(\"Please use smaller bounding box, otherwise kernel will die soon...\\nUse Higher RAM or HPC for this larger bounding box\")\n",
    "else:\n",
    "    print(\"Please proceed!\\nThe area of bounding box within the safe limits...\")"
   ]
  },
  {
   "cell_type": "markdown",
   "id": "5e36e3e9-5983-43bb-a07f-409021061903",
   "metadata": {},
   "source": [
    "## <span style=\"color:green\">Step 1c: Display the bounding box and data availibility</span>"
   ]
  },
  {
   "cell_type": "code",
   "execution_count": null,
   "id": "b6783ae0-87f4-467d-90bb-6c58a1a7c44d",
   "metadata": {},
   "outputs": [],
   "source": [
    "display_data_avail(selected_raster_code, bounding_box)"
   ]
  },
  {
   "cell_type": "markdown",
   "id": "3fd0dce1-2249-4289-a947-d9cf2384314e",
   "metadata": {},
   "source": [
    "## <span style=\"color:green\">Step 1d: Create a unique filename based on bounding box extents</span>"
   ]
  },
  {
   "cell_type": "code",
   "execution_count": null,
   "id": "72f85a17-55df-4442-8741-ec429fa74185",
   "metadata": {},
   "outputs": [],
   "source": [
    "expanded_bb = (\n",
    "    math.floor(west  * 100) / 100,   # left  (west), use floor\n",
    "    math.floor(south * 100) / 100,   # bottom(south), use floor\n",
    "    math.ceil(east   * 100) / 100,   # right (east), use ceil\n",
    "    math.ceil(north  * 100) / 100    # top   (north), use ceil\n",
    ")\n",
    "def bbox_to_filename(bb):\n",
    "    w, s, e, n = [round(x, 2) for x in bb]\n",
    "\n",
    "    def tag(value, pos_char, neg_char):\n",
    "        hemis = pos_char if value >= 0 else neg_char\n",
    "        #return f\"{hemis}{abs(value):.2f}\"\n",
    "        return f\"{hemis}{abs(value)}\"\n",
    "    \n",
    "\n",
    "    parts = [\n",
    "        tag(w, 'E', 'W'),   # longitude west edge\n",
    "        tag(s, 'N', 'S'),   # latitude  south edge\n",
    "        tag(e, 'E', 'W'),   # longitude east edge\n",
    "        tag(n, 'N', 'S')    # latitude  north edge\n",
    "    ]\n",
    "    \n",
    "    return(\"\".join(parts))\n",
    "\n",
    "unique_name=bbox_to_filename(expanded_bb)\n",
    "\n",
    "## Create DEM file name\n",
    "file_name = f\"dem_{unique_name}_{selected_raster_code}.tif\"\n",
    "print(\"Filename for current bounding box:\", file_name)"
   ]
  },
  {
   "cell_type": "markdown",
   "id": "5f20e6b4-7879-4c5a-b29f-83f1763c1d17",
   "metadata": {},
   "source": [
    "## <span style=\"color:green\">Step 2a: Download the data from OpenTopography using your API key</span>"
   ]
  },
  {
   "cell_type": "code",
   "execution_count": null,
   "id": "1fbed347-b333-4f6c-897f-10ed35fe1311",
   "metadata": {},
   "outputs": [],
   "source": [
    "## OpenTopography API base URL\n",
    "BASE_URL = \"https://portal.opentopography.org/API/globaldem\"\n",
    "api_key = \"<use your API Key from OpenTopography>\"  # Replace with your actual OpenTopography API key\n",
    "## Create the API request URL\n",
    "url = (\n",
    "    f\"{BASE_URL}?demtype={selected_raster_code}\"\n",
    "    f\"&south={expanded_bb[1]}&north={expanded_bb[3]}\"\n",
    "    f\"&west={expanded_bb[0]}&east={expanded_bb[2]}\"\n",
    "    f\"&outputFormat=GTiff&API_Key={api_key}\"\n",
    ")\n",
    "print(\"Please wait! Download will take time to complete...\")\n",
    "\n",
    "## Send GET request to OpenTopography API\n",
    "response = requests.get(url, \n",
    "                        stream=True)\n",
    "print(response)\n",
    "#print(response.content)"
   ]
  },
  {
   "cell_type": "markdown",
   "id": "9b55ca3d-f296-4fe2-9a7e-a8acd0361b6d",
   "metadata": {},
   "source": [
    "## <span style=\"color:green\">Step 2b: Create folder paths to save raw and final data</span>"
   ]
  },
  {
   "cell_type": "code",
   "execution_count": null,
   "id": "26bd59bc-3888-4900-87f3-402400705a34",
   "metadata": {},
   "outputs": [],
   "source": [
    "## Define a function for making a directory depending on whether is exists or not.\n",
    "## We are creating a function so that it can be used later for creating three folders in the later modules\n",
    "def check_create_path_func(path):\n",
    "    isExist = os.path.exists(path)\n",
    "    if not isExist:\n",
    "        # Create a new directory because it does not exist\n",
    "        os.makedirs(path)\n",
    "        print(f\"The new directory \\033[1m'{path}'\\033[0m is created!\")\n",
    "    else:\n",
    "        print(f\"The new directory \\033[1m'{path}'\\033[0m is not created as it already exists!\")\n",
    "        \n",
    "## Create the a folder for storing DEMs using the earlier defined function\n",
    "folder_main=f\"{os.path.expanduser('~')}/scratch/DEM_Access\"\n",
    "check_create_path_func(folder_main)\n",
    "folder_input=f\"{folder_main}/data\"\n",
    "check_create_path_func(folder_input)\n",
    "folder_results=f'./results'\n",
    "check_create_path_func(folder_results)"
   ]
  },
  {
   "cell_type": "markdown",
   "id": "258a22bb-b7b9-45b6-8fff-70218ed6f7a1",
   "metadata": {},
   "source": [
    "## <span style=\"color:green\">Step 2c: Save the DEM data to input folder</span>"
   ]
  },
  {
   "cell_type": "code",
   "execution_count": null,
   "id": "fb74b7ef-aa75-4a2a-b314-e10d23640a8e",
   "metadata": {},
   "outputs": [],
   "source": [
    "## Check if the request was successful\n",
    "dem_filepath = f'{folder_input}/{file_name}' \n",
    "if response.status_code == 200:\n",
    "      \n",
    "    ## Save the response content as a tif file\n",
    "    with open(dem_filepath, 'wb') as f:\n",
    "        f.write(response.content)\n",
    "\n",
    "    print(f\"Data downloaded at f'{dem_filepath}'\")\n",
    "    \n",
    "elif response.status_code == 204:\n",
    "    print(f\"Error: No Data: {response.status_code}\")\n",
    "elif response.status_code == 400:\n",
    "    print(f\"Error: Bad request: {response.status_code}\")\n",
    "elif response.status_code == 401:\n",
    "    print(f\"Error: Unauthorized: {response.status_code}\")\n",
    "elif response.status_code == 403:\n",
    "    print(f\"Error: Forbidden: {response.status_code}\")\n",
    "elif response.status_code == 404:\n",
    "    print(f\"Error: Not Found: {response.status_code}\")\n",
    "elif response.status_code == 408:\n",
    "    print(f\"Error: Request Timeout: {response.status_code}\")\n",
    "elif response.status_code == 500:\n",
    "    print(f\"Error: Internal Error: {response.status_code}\")\n",
    "else:\n",
    "    print(f\"Error: Unexpected status code: {response.status_code}\")\n",
    "\n",
    "## Clear space removing redundant variables\n",
    "del response"
   ]
  },
  {
   "cell_type": "markdown",
   "id": "6c778802-ea1f-40df-8132-53c2b42617be",
   "metadata": {},
   "source": [
    "## <span style=\"color:green\">Step 2d: Plot the downlaoded DEM</span>"
   ]
  },
  {
   "cell_type": "code",
   "execution_count": null,
   "id": "a8b3089d-f66f-48de-b094-be14e00b022d",
   "metadata": {},
   "outputs": [],
   "source": [
    "## Open the DEM data\n",
    "with rasterio.open(dem_filepath) as src:\n",
    "    # Read the DEM data (this is a numpy array)\n",
    "    dem_data = src.read(1)\n",
    "    dem_transform = src.transform\n",
    "    print(f\"DEM CRS: {src.crs}\")\n",
    "    print(f\"DEM Transform: {src.transform}\")\n",
    "    print(\"CRS object :\", src.crs)          # full CRS object\n",
    "    print(\"EPSG code  :\", src.crs.to_epsg()) \n",
    "\n",
    "    # Create a new figure and axis\n",
    "    fig, ax = plt.subplots(figsize=(8, 8))\n",
    "\n",
    "    ## Plot the DEM data using imshow from matplotlib and add the extent\n",
    "    im = ax.imshow(dem_data, cmap='viridis', origin='upper', extent=[dem_transform[2], dem_transform[2] + dem_transform[0] * dem_data.shape[1],\n",
    "                                                                   dem_transform[5] + dem_transform[4] * dem_data.shape[0], dem_transform[5]])\n",
    "\n",
    "    ## Plot the watershed on top of the DEM\n",
    "    bb_gdf.plot(ax=ax, facecolor='none', edgecolor='red', linewidth=2)\n",
    "\n",
    "    ## Create a colorbar associated with the imshow object\n",
    "    plt.colorbar(im, ax=ax, label='Elevation (m)', shrink=0.5)\n",
    "\n",
    "    ## Set title\n",
    "    plt.title(f'DEM Data from OpenTopography\\n({selected_raster_name})')\n",
    "\n",
    "    ## Show the plot\n",
    "    plt.show()"
   ]
  },
  {
   "cell_type": "markdown",
   "id": "195297e9-8603-4a5a-8599-2be945550f9b",
   "metadata": {},
   "source": [
    "## <span style=\"color:green\">Step 3a: Reprojecting merged raster to UTM using calculated zone</span>\n",
    "\n",
    "\n",
    "Reprojecting a raster ensures its grid aligns with the map projection used by other spatial layers, preventing spatial offsets. Tt converts cell sizes and coordinates into the desired CRS so distance, area, and slope calculations are numerically correct. Consistent projection is essential for overlay analyses, mosaicking, and accurate map visualization across datasets.\n",
    "\n",
    "<ul>\n",
    "<li> Using the string created for EPSG (by calculated zone value), reproject it to PCS  </li>\n",
    "<li> Calculate the zone value (below calculations applciable to conterminous US) </li>"
   ]
  },
  {
   "cell_type": "code",
   "execution_count": null,
   "id": "129628e1-b12f-49c3-a980-7917f1bd8d0d",
   "metadata": {},
   "outputs": [],
   "source": [
    "def reproject_raster_func(input_raster, output_raster, target_crs):\n",
    "    # Load the input DEM\n",
    "    with rasterio.open(input_raster) as src:\n",
    "        # Define the target CRS\n",
    "        target_crs_proj = pyproj.CRS.from_string(target_crs)\n",
    "        # Calculate the transformation and new dimensions\n",
    "        transform, width, height = calculate_default_transform(src.crs, target_crs_proj, src.width, src.height, *src.bounds)\n",
    "        # Update metadata for the new dataset\n",
    "        kwargs = src.meta.copy()\n",
    "        kwargs.update({\n",
    "            'crs': target_crs_proj,\n",
    "            'transform': transform,\n",
    "            'width': width,\n",
    "            'height': height\n",
    "        })\n",
    "        # Create the output dataset and perform the reprojection\n",
    "        with rasterio.open(output_raster, 'w', **kwargs) as dst:\n",
    "            for i in range(1, src.count + 1):\n",
    "                ## WRITE CODE BELOW\n",
    "                reproject(source=rasterio.band(src,i),\n",
    "                          destination=rasterio.band(dst,i),\n",
    "                          src_transform=src.transform,\n",
    "                          src_crs=src.crs,\n",
    "                          dst_transform=transform,\n",
    "                          dst_crs=target_crs_proj,\n",
    "                          resampling=Resampling.nearest)\n",
    "        print(f\"Reprojection of raster complete to {target_crs} projected CRS.\")\n",
    "reprojected_raster_filename=f'{folder_results}/reprojected_{unique_name}_{selected_raster_code}.tif'\n",
    "## WRITE CODE BELOW\n",
    "reproject_raster_func(dem_filepath,reprojected_raster_filename,crs_string)"
   ]
  },
  {
   "cell_type": "markdown",
   "id": "9b327186-0a16-4152-81cf-f0ad86872069",
   "metadata": {},
   "source": [
    "## <span style=\"color:green\">Step 3b: Plot the reprojected raster</span>"
   ]
  },
  {
   "cell_type": "code",
   "execution_count": null,
   "id": "eab19a95-a62d-4da5-b1f3-64f08645167e",
   "metadata": {},
   "outputs": [],
   "source": [
    "with rasterio.open(reprojected_raster_filename) as src:\n",
    "    fig, ax = plt.subplots(figsize = (8,8))\n",
    "    mapped=rasterio.plot.show(src,\n",
    "                              ax=ax, \n",
    "                              cmap='viridis')\n",
    "    im = mapped.get_images()[0]\n",
    "    fig.colorbar(im,\n",
    "                 ax=ax,\n",
    "                 shrink=0.5,\n",
    "                 label='Elevation (in meters)',\n",
    "                 location='right',\n",
    "                 orientation='vertical')\n",
    "    ax.set_xlabel(\"Easting (meters)\")\n",
    "    ax.set_ylabel(\"Northing (meters)\")\n",
    "    ax.set_title(f\"Reprojected Raster DEM in EPSG: {crs_string} Projected CRS\\n(for {selected_raster_name})\")\n",
    "## Uee the reprojected watershed shapefile\n",
    "bb_gdf.to_crs(crs_string).plot(ax=ax,\n",
    "                    facecolor='none',\n",
    "                    edgecolor='red',\n",
    "                    linewidth=5)\n",
    "src.close()\n",
    "del mapped,im,fig,ax,src"
   ]
  },
  {
   "cell_type": "markdown",
   "id": "3459d953-ff75-4770-b417-c3389cb5c2b1",
   "metadata": {},
   "source": [
    "## <span style=\"color:green\">Step 4a: Creating Topographic Wetness Index(TWI) raster</span>\n",
    "\n",
    "We will use PyWBT, a Python wrapper around the WhiteboxTools (WBT) geospatial analysis library. First, let us create a dictionary whose keys are WhiteboxTools command names and whose values are the exact command-line arguments you would pass to each tool. Then, PyWBT then runs the tools in the order they appear in that dictionary, piping the outputs from one step into the next.\n",
    "<ul>\n",
    "<li> Breach Depressions (Alternative to Fill Sinks) : Removes all sinks and flats by cutting through barriers instead of filling them, so every cell has a downhill path.</li>\n",
    "<li> D8Pointer: Creates a flow-direction grid (D8), assigning each cell the code of the downslope neighbour it drains to.</li>\n",
    "<li> DownslopeFlowpathLength: Computes, for every cell, the total length of its downslope flow path to an outlet. Useful for hydrologic indices and erosion models.</li>\n",
    "<li> D8Flow Accumulation: Calculates specific contributing area (SCA) using the D8 directions—i.e. the upslope area per unit contour length contributing to each pixel.</li>\n",
    "<li> Slope: Derives slope from the corrected DEM.   </li>\n",
    "<li> TWI: Combines SCA and slope to produce the Topographic Wetness Index (TWI): TWI = ln(SCA / tan β).</li>"
   ]
  },
  {
   "cell_type": "code",
   "execution_count": null,
   "id": "0038faf7-752e-4180-8960-435c73cd131c",
   "metadata": {},
   "outputs": [],
   "source": [
    "src_dir = Path(reprojected_raster_filename)\n",
    "print(src_dir)\n",
    "\n",
    "src_dir.parent.mkdir(parents=True, exist_ok=True)\n",
    "\n",
    "wbt_args = {\n",
    "    \"BreachDepressions\": [f\"-i={src_dir.name}\", \"--fill_pits\", f\"-o=dem_corr_{unique_name}_{selected_raster_code}.tif\"],\n",
    "    \"D8Pointer\": [f\"-i=dem_corr_{unique_name}_{selected_raster_code}.tif\", f\"-o=fdir_{unique_name}_{selected_raster_code}.tif\"],\n",
    "    \"DownslopeFlowpathLength\": [f\"--d8_pntr=fdir_{unique_name}_{selected_raster_code}.tif\", f\"-o=downslope_fp_length_{unique_name}_{selected_raster_code}.tif\"],\n",
    "    \"D8FlowAccumulation\": [f\"-i=fdir_{unique_name}_{selected_raster_code}.tif\", \"--pntr\", \"--out_type='specific contributing area'\", f\"-o=sca_{unique_name}_{selected_raster_code}.tif\"],\n",
    "    \"Slope\": [f\"-i=dem_corr_{unique_name}_{selected_raster_code}.tif\", \"--units=radians\", f\"-o=slope_{unique_name}_{selected_raster_code}.tif\"],\n",
    "    \"WetnessIndex\": [f\"--sca=sca_{unique_name}_{selected_raster_code}.tif\", f\"--slope=slope_{unique_name}_{selected_raster_code}.tif\", f\"-o=twi_{unique_name}_{selected_raster_code}.tif\"],\n",
    "}"
   ]
  },
  {
   "cell_type": "markdown",
   "id": "bd344433-3600-4b7c-9052-ec048271ef77",
   "metadata": {},
   "source": [
    "## <span style=\"color:green\">Step 4b: Run each tool in order </span>\n"
   ]
  },
  {
   "cell_type": "code",
   "execution_count": null,
   "id": "bbfcfb1a-a927-4cf4-8469-0987e47fecb5",
   "metadata": {},
   "outputs": [],
   "source": [
    "input_dir=folder_results\n",
    "#print(input_dir)\n",
    "\n",
    "## WRITE THE CODE BELOW\n",
    "with tempfile.TemporaryDirectory(dir=str(folder_results)) as temp_dir:\n",
    "    pywbt.whitebox_tools(input_dir,\n",
    "                         wbt_args,\n",
    "                         save_dir=input_dir,\n",
    "                         max_procs=1)"
   ]
  },
  {
   "cell_type": "markdown",
   "id": "347831a1-c821-45b7-8be9-cf826a6c4b94",
   "metadata": {},
   "source": [
    "## <span style=\"color:green\">Step 4c: Plot the TWI and intermediate outputs </span>\n"
   ]
  },
  {
   "cell_type": "code",
   "execution_count": null,
   "id": "6dde1e8e-d7e1-4d41-ad7d-14d8ea68525a",
   "metadata": {},
   "outputs": [],
   "source": [
    "with rasterio.open(f\"{folder_results}/twi_{unique_name}_{selected_raster_code}.tif\") as src1:\n",
    "    twi2 = src1.read(1)\n",
    "    fig, ax = plt.subplots(figsize = (8,8))\n",
    "    mapped=rasterio.plot.show(src1,\n",
    "                              ax=ax, \n",
    "                              cmap='plasma')\n",
    "    im = mapped.get_images()[0]\n",
    "    fig.colorbar(im,\n",
    "                 ax=ax,\n",
    "                 shrink=0.5,\n",
    "                 label='Topographic Wetness Index\\n(Dimensionless)',\n",
    "                 location='right',\n",
    "                 orientation='vertical')\n",
    "    ax.set_xlabel(\"Easting (meters)\")\n",
    "    ax.set_ylabel(\"Northing (meters)\")\n",
    "    ax.set_title(f\"Topographic Wetness Index (TWI) in EPSG: {crs_string} Projected CRS\\n(for {selected_raster_name})\")\n",
    "\n",
    "## Uee the reprojected watershed shapefile\n",
    "bb_gdf.to_crs(crs_string).plot(ax=ax,\n",
    "                    facecolor='none',\n",
    "                    edgecolor='red',\n",
    "                    linewidth=5)\n",
    "del src1,fig,ax"
   ]
  },
  {
   "cell_type": "code",
   "execution_count": null,
   "id": "1c4451fb-adf8-4764-9940-9adc1b993d6a",
   "metadata": {},
   "outputs": [],
   "source": [
    "## Define the file paths for the different rasters\n",
    "\n",
    "raster_files = {\n",
    "    \"Reprojected DEM Raster\": [f\"{folder_results}/reprojected_{unique_name}_{selected_raster_code}.tif\",'Elevation (in meters)'],\n",
    "    \"Breach Depressions Filled Raster\": [f\"{folder_results}/dem_corr_{unique_name}_{selected_raster_code}.tif\",'Elevation (in meters)'],\n",
    "    \"D8 Flow Direction Raster\": [f\"{folder_results}/fdir_{unique_name}_{selected_raster_code}.tif\",'Index from 1 to 128'],\n",
    "    \"Flow Accumulation Raster (Specific Contributing Area)\": [f\"{folder_results}/sca_{unique_name}_{selected_raster_code}.tif\",'Count of Cells/ meter'],\n",
    "    \"Slope Raster\": [f\"{folder_results}/slope_{unique_name}_{selected_raster_code}.tif\",'Slope (Radians)'],\n",
    "    \"Topographic Wetness Index (TWI) Raster\": [f\"{folder_results}/twi_{unique_name}_{selected_raster_code}.tif\",'TWI (Dimensionless)'],}\n",
    "\n",
    "# Create a figure with a 3x2 layout\n",
    "fig, axes = plt.subplots(2, 3, figsize=(18, 12))\n",
    "\n",
    "# Flatten the axes array for easier iteration\n",
    "axes = axes.flatten()\n",
    "\n",
    "# Loop through the raster files and plot them\n",
    "for ax, (title, (file,units)) in zip(axes, raster_files.items()):\n",
    "    with rasterio.open(file) as src:\n",
    "        # Read the first band\n",
    "        data = src.read(1)\n",
    "        vmin, vmax = np.percentile(data[data != src.nodata], [2, 98])\n",
    "        #im = ax.imshow(data, cmap='plasma', vmin=vmin, vmax=vmax)\n",
    "        \n",
    "        mapped=rasterio.plot.show(src, ax=ax, cmap='plasma', vmin=vmin, vmax=vmax)\n",
    "        im = mapped.get_images()[0]\n",
    "       \n",
    "    \n",
    "        # Plot the raster data\n",
    "        #img = ax.imshow(data, cmap='viridis')\n",
    "        ax.set_title(title)\n",
    "        ax.axis('off')  # Hide the axis\n",
    "        \n",
    "        ## Uee the reprojected watershed shapefile\n",
    "        bb_gdf.to_crs(crs_string).plot(ax=ax,\n",
    "                            facecolor='none',\n",
    "                            edgecolor='red',\n",
    "                            linewidth=5)\n",
    "        \n",
    "        # Add a colorbar specific to this subplot\n",
    "        cbar = plt.colorbar(im, ax=ax, shrink=0.5)\n",
    "        cbar.set_label(units)  # Label for the colorbar\n",
    "\n",
    "# Adjust layout\n",
    "plt.tight_layout()\n",
    "plt.show()"
   ]
  },
  {
   "cell_type": "code",
   "execution_count": null,
   "id": "2d594eae-f9b1-432a-b64e-0cbe1691dd06",
   "metadata": {},
   "outputs": [],
   "source": []
  }
 ],
 "metadata": {
  "kernelspec": {
   "display_name": "ct-fair",
   "language": "python",
   "name": "ct-fair"
  },
  "language_info": {
   "codemirror_mode": {
    "name": "ipython",
    "version": 3
   },
   "file_extension": ".py",
   "mimetype": "text/x-python",
   "name": "python",
   "nbconvert_exporter": "python",
   "pygments_lexer": "ipython3",
   "version": "3.9.21"
  }
 },
 "nbformat": 4,
 "nbformat_minor": 5
}
